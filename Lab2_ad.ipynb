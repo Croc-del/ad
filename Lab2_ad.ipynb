{
 "cells": [
  {
   "cell_type": "code",
   "execution_count": 3,
   "id": "4e75d42f-ed83-46e5-99a0-9396c1cf0255",
   "metadata": {},
   "outputs": [],
   "source": [
    "import urllib.request\n",
    "import datetime\n",
    "import os\n",
    "import pandas as pd\n"
   ]
  },
  {
   "cell_type": "markdown",
   "id": "1fa3e49c",
   "metadata": {},
   "source": [
    "Функці для завантаження VHI даних"
   ]
  },
  {
   "cell_type": "code",
   "execution_count": 21,
   "id": "000c210c-c5f5-490b-a4df-917712ca28c1",
   "metadata": {},
   "outputs": [
    {
     "name": "stdout",
     "output_type": "stream",
     "text": [
      "Крок 1: Формую URL для області 1: https://www.star.nesdis.noaa.gov/smcd/emb/vci/VH/get_TS_admin.php?country=UKR&provinceID=1&year1=1981&year2=2024&type=Mean\n",
      "Крок 1:Файл не існує.\n",
      "Крок 1: Дані успішно завантажені.\n",
      "Крок 1: Файл збережено: VHI_1_20250410125832.csv\n",
      "Крок 2: Формую URL для області 2: https://www.star.nesdis.noaa.gov/smcd/emb/vci/VH/get_TS_admin.php?country=UKR&provinceID=2&year1=1981&year2=2024&type=Mean\n",
      "Крок 2:Файл не існує.\n",
      "Крок 2: Дані успішно завантажені.\n",
      "Крок 2: Файл збережено: VHI_2_20250410125833.csv\n",
      "Крок 3: Формую URL для області 3: https://www.star.nesdis.noaa.gov/smcd/emb/vci/VH/get_TS_admin.php?country=UKR&provinceID=3&year1=1981&year2=2024&type=Mean\n",
      "Крок 3:Файл не існує.\n",
      "Крок 3: Дані успішно завантажені.\n",
      "Крок 3: Файл збережено: VHI_3_20250410125834.csv\n",
      "Крок 4: Формую URL для області 4: https://www.star.nesdis.noaa.gov/smcd/emb/vci/VH/get_TS_admin.php?country=UKR&provinceID=4&year1=1981&year2=2024&type=Mean\n",
      "Крок 4:Файл не існує.\n",
      "Крок 4: Дані успішно завантажені.\n",
      "Крок 4: Файл збережено: VHI_4_20250410125837.csv\n",
      "Крок 5: Формую URL для області 5: https://www.star.nesdis.noaa.gov/smcd/emb/vci/VH/get_TS_admin.php?country=UKR&provinceID=5&year1=1981&year2=2024&type=Mean\n",
      "Крок 5:Файл не існує.\n",
      "Крок 5: Дані успішно завантажені.\n",
      "Крок 5: Файл збережено: VHI_5_20250410125838.csv\n",
      "Крок 6: Формую URL для області 6: https://www.star.nesdis.noaa.gov/smcd/emb/vci/VH/get_TS_admin.php?country=UKR&provinceID=6&year1=1981&year2=2024&type=Mean\n",
      "Крок 6:Файл не існує.\n",
      "Крок 6: Дані успішно завантажені.\n",
      "Крок 6: Файл збережено: VHI_6_20250410125841.csv\n",
      "Крок 7: Формую URL для області 7: https://www.star.nesdis.noaa.gov/smcd/emb/vci/VH/get_TS_admin.php?country=UKR&provinceID=7&year1=1981&year2=2024&type=Mean\n",
      "Крок 7:Файл не існує.\n",
      "Крок 7: Дані успішно завантажені.\n",
      "Крок 7: Файл збережено: VHI_7_20250410125842.csv\n",
      "Крок 8: Формую URL для області 8: https://www.star.nesdis.noaa.gov/smcd/emb/vci/VH/get_TS_admin.php?country=UKR&provinceID=8&year1=1981&year2=2024&type=Mean\n",
      "Крок 8:Файл не існує.\n",
      "Крок 8: Дані успішно завантажені.\n",
      "Крок 8: Файл збережено: VHI_8_20250410125843.csv\n",
      "Крок 9: Формую URL для області 9: https://www.star.nesdis.noaa.gov/smcd/emb/vci/VH/get_TS_admin.php?country=UKR&provinceID=9&year1=1981&year2=2024&type=Mean\n",
      "Крок 9:Файл не існує.\n",
      "Крок 9: Дані успішно завантажені.\n",
      "Крок 9: Файл збережено: VHI_9_20250410125844.csv\n",
      "Крок 10: Формую URL для області 10: https://www.star.nesdis.noaa.gov/smcd/emb/vci/VH/get_TS_admin.php?country=UKR&provinceID=10&year1=1981&year2=2024&type=Mean\n",
      "Крок 10:Файл не існує.\n",
      "Крок 10: Дані успішно завантажені.\n",
      "Крок 10: Файл збережено: VHI_10_20250410125845.csv\n",
      "Крок 11: Формую URL для області 11: https://www.star.nesdis.noaa.gov/smcd/emb/vci/VH/get_TS_admin.php?country=UKR&provinceID=11&year1=1981&year2=2024&type=Mean\n",
      "Крок 11:Файл не існує.\n",
      "Крок 11: Дані успішно завантажені.\n",
      "Крок 11: Файл збережено: VHI_11_20250410125849.csv\n",
      "Крок 12: Формую URL для області 12: https://www.star.nesdis.noaa.gov/smcd/emb/vci/VH/get_TS_admin.php?country=UKR&provinceID=12&year1=1981&year2=2024&type=Mean\n",
      "Крок 12:Файл не існує.\n",
      "Крок 12: Дані успішно завантажені.\n",
      "Крок 12: Файл збережено: VHI_12_20250410125850.csv\n",
      "Крок 13: Формую URL для області 13: https://www.star.nesdis.noaa.gov/smcd/emb/vci/VH/get_TS_admin.php?country=UKR&provinceID=13&year1=1981&year2=2024&type=Mean\n",
      "Крок 13:Файл не існує.\n",
      "Крок 13: Дані успішно завантажені.\n",
      "Крок 13: Файл збережено: VHI_13_20250410125852.csv\n",
      "Крок 14: Формую URL для області 14: https://www.star.nesdis.noaa.gov/smcd/emb/vci/VH/get_TS_admin.php?country=UKR&provinceID=14&year1=1981&year2=2024&type=Mean\n",
      "Крок 14:Файл не існує.\n",
      "Крок 14: Дані успішно завантажені.\n",
      "Крок 14: Файл збережено: VHI_14_20250410125855.csv\n",
      "Крок 15: Формую URL для області 15: https://www.star.nesdis.noaa.gov/smcd/emb/vci/VH/get_TS_admin.php?country=UKR&provinceID=15&year1=1981&year2=2024&type=Mean\n",
      "Крок 15:Файл не існує.\n",
      "Крок 15: Дані успішно завантажені.\n",
      "Крок 15: Файл збережено: VHI_15_20250410125856.csv\n",
      "Крок 16: Формую URL для області 16: https://www.star.nesdis.noaa.gov/smcd/emb/vci/VH/get_TS_admin.php?country=UKR&provinceID=16&year1=1981&year2=2024&type=Mean\n",
      "Крок 16:Файл не існує.\n",
      "Крок 16: Дані успішно завантажені.\n",
      "Крок 16: Файл збережено: VHI_16_20250410125857.csv\n",
      "Крок 17: Формую URL для області 17: https://www.star.nesdis.noaa.gov/smcd/emb/vci/VH/get_TS_admin.php?country=UKR&provinceID=17&year1=1981&year2=2024&type=Mean\n",
      "Крок 17:Файл не існує.\n",
      "Крок 17: Дані успішно завантажені.\n",
      "Крок 17: Файл збережено: VHI_17_20250410125859.csv\n",
      "Крок 18: Формую URL для області 18: https://www.star.nesdis.noaa.gov/smcd/emb/vci/VH/get_TS_admin.php?country=UKR&provinceID=18&year1=1981&year2=2024&type=Mean\n",
      "Крок 18:Файл не існує.\n",
      "Крок 18: Дані успішно завантажені.\n",
      "Крок 18: Файл збережено: VHI_18_20250410125900.csv\n",
      "Крок 19: Формую URL для області 19: https://www.star.nesdis.noaa.gov/smcd/emb/vci/VH/get_TS_admin.php?country=UKR&provinceID=19&year1=1981&year2=2024&type=Mean\n",
      "Крок 19:Файл не існує.\n",
      "Крок 19: Дані успішно завантажені.\n",
      "Крок 19: Файл збережено: VHI_19_20250410125901.csv\n",
      "Крок 20: Формую URL для області 20: https://www.star.nesdis.noaa.gov/smcd/emb/vci/VH/get_TS_admin.php?country=UKR&provinceID=20&year1=1981&year2=2024&type=Mean\n",
      "Крок 20:Файл не існує.\n",
      "Крок 20: Дані успішно завантажені.\n",
      "Крок 20: Файл збережено: VHI_20_20250410125903.csv\n",
      "Крок 21: Формую URL для області 21: https://www.star.nesdis.noaa.gov/smcd/emb/vci/VH/get_TS_admin.php?country=UKR&provinceID=21&year1=1981&year2=2024&type=Mean\n",
      "Крок 21:Файл не існує.\n",
      "Крок 21: Дані успішно завантажені.\n",
      "Крок 21: Файл збережено: VHI_21_20250410125904.csv\n",
      "Крок 22: Формую URL для області 22: https://www.star.nesdis.noaa.gov/smcd/emb/vci/VH/get_TS_admin.php?country=UKR&provinceID=22&year1=1981&year2=2024&type=Mean\n",
      "Крок 22:Файл не існує.\n",
      "Крок 22: Дані успішно завантажені.\n",
      "Крок 22: Файл збережено: VHI_22_20250410125906.csv\n",
      "Крок 23: Формую URL для області 23: https://www.star.nesdis.noaa.gov/smcd/emb/vci/VH/get_TS_admin.php?country=UKR&provinceID=23&year1=1981&year2=2024&type=Mean\n",
      "Крок 23:Файл не існує.\n",
      "Крок 23: Дані успішно завантажені.\n",
      "Крок 23: Файл збережено: VHI_23_20250410125907.csv\n",
      "Крок 24: Формую URL для області 24: https://www.star.nesdis.noaa.gov/smcd/emb/vci/VH/get_TS_admin.php?country=UKR&provinceID=24&year1=1981&year2=2024&type=Mean\n",
      "Крок 24:Файл не існує.\n",
      "Крок 24: Дані успішно завантажені.\n",
      "Крок 24: Файл збережено: VHI_24_20250410125909.csv\n",
      "Крок 25: Формую URL для області 25: https://www.star.nesdis.noaa.gov/smcd/emb/vci/VH/get_TS_admin.php?country=UKR&provinceID=25&year1=1981&year2=2024&type=Mean\n",
      "Крок 25:Файл не існує.\n",
      "Крок 25: Дані успішно завантажені.\n",
      "Крок 25: Файл збережено: VHI_25_20250410125910.csv\n",
      "Крок 26: Формую URL для області 26: https://www.star.nesdis.noaa.gov/smcd/emb/vci/VH/get_TS_admin.php?country=UKR&provinceID=26&year1=1981&year2=2024&type=Mean\n",
      "Крок 26:Файл не існує.\n",
      "Крок 26: Дані успішно завантажені.\n",
      "Крок 26: Файл збережено: VHI_26_20250410125912.csv\n",
      "Крок 27: Формую URL для області 27: https://www.star.nesdis.noaa.gov/smcd/emb/vci/VH/get_TS_admin.php?country=UKR&provinceID=27&year1=1981&year2=2024&type=Mean\n",
      "Крок 27:Файл не існує.\n",
      "Крок 27: Дані успішно завантажені.\n",
      "Крок 27: Файл збережено: VHI_27_20250410125913.csv\n",
      "Крок 28: Формую URL для області 28: https://www.star.nesdis.noaa.gov/smcd/emb/vci/VH/get_TS_admin.php?country=UKR&provinceID=28&year1=1981&year2=2024&type=Mean\n",
      "Крок 28:Файл не існує.\n",
      "Крок 28: Дані успішно завантажені.\n",
      "Крок 28: Файл збережено: VHI_28_20250410125915.csv\n"
     ]
    }
   ],
   "source": [
    "def download_vhi_data():\n",
    "    for i in range(1, 29):  \n",
    "        url = f\"https://www.star.nesdis.noaa.gov/smcd/emb/vci/VH/get_TS_admin.php?country=UKR&provinceID={i}&year1=1981&year2=2024&type=Mean\"\n",
    "        print(f\"Крок {i}: Формую URL для області {i}: {url}\")\n",
    "        \n",
    "        \n",
    "        data_sign = datetime.datetime.now().strftime(\"%Y%m%d%H%M%S\")\n",
    "        filename = f\"VHI_{i}_{data_sign}.csv\"\n",
    "        \n",
    "        if not os.path.exists(filename):\n",
    "            print(f\"Крок {i}:Файл не існує.\")\n",
    "            try:\n",
    "                response = urllib.request.urlopen(url)\n",
    "                my_data = response.read()\n",
    "                print(f\"Крок {i}: Дані успішно завантажені.\")\n",
    "                \n",
    "                with open(filename, \"wb\") as file:\n",
    "                    file.write(my_data)\n",
    "                print(f\"Крок {i}: Файл збережено: {filename}\")\n",
    "            except Exception as e:\n",
    "                print(f\"Крок {i}: Помилка при завантаженні даних: {e}\")\n",
    "        else:\n",
    "            print(f\"Крок {i}: Файл {filename} вже існує.\")\n",
    "            \n",
    "download_vhi_data()\n",
    "\n"
   ]
  },
  {
   "cell_type": "markdown",
   "id": "8f77ade4-300a-4f11-b616-c349fbaab44b",
   "metadata": {},
   "source": [
    "Зчитуєсо CSV-файлі у DataFrame   "
   ]
  },
  {
   "cell_type": "code",
   "execution_count": 25,
   "id": "7b49ee78-af62-4b1b-97c0-6ab6456a8559",
   "metadata": {
    "scrolled": true
   },
   "outputs": [],
   "source": [
    "def load_data_to_dataframe():\n",
    "    headers = ['Year', 'Week', 'SMN', 'SMT', 'VCI', 'TCI', 'VHI', 'empty']\n",
    "    \n",
    "    files = [file for file in os.listdir() if file.endswith(\".csv\")]\n",
    "    df_list = []\n",
    "    \n",
    "    for file in files:\n",
    "        df = pd.read_csv(file, header=1, names=headers) \n",
    "        df = df.drop(columns=['empty'], errors='ignore')\n",
    "        df = df.drop(df[df['VHI'] == -1].index)  \n",
    "        df['area'] = files.index(file) + 1  \n",
    "        df_list.append(df)\n",
    "    \n",
    "    df = pd.concat(df_list, ignore_index=True)\n",
    "    return df\n",
    "\n"
   ]
  },
  {
   "cell_type": "code",
   "execution_count": 56,
   "id": "04e7f7c1",
   "metadata": {},
   "outputs": [
    {
     "name": "stdout",
     "output_type": "stream",
     "text": [
      "                Year  Week    SMN     SMT    VCI    TCI    VHI  area\n",
      "0      <tt><pre>1982   1.0  0.059  258.24  51.11  48.78  49.95     1\n",
      "1               1982   2.0  0.063  261.53  55.89  38.20  47.04     1\n",
      "2               1982   3.0  0.063  263.45  57.30  32.69  44.99     1\n",
      "3               1982   4.0  0.061  265.10  53.96  28.62  41.29     1\n",
      "4               1982   5.0  0.058  266.42  46.87  28.57  37.72     1\n",
      "...              ...   ...    ...     ...    ...    ...    ...   ...\n",
      "61231           2024  49.0  0.133  277.08  57.71  10.86  34.29    28\n",
      "61232           2024  50.0  0.130  276.49  59.45   8.68  34.07    28\n",
      "61233           2024  51.0  0.128  276.45  62.53   5.55  34.04    28\n",
      "61234           2024  52.0  0.129  276.48  66.13   3.71  34.92    28\n",
      "61235    </pre></tt>   NaN    NaN     NaN    NaN    NaN    NaN    28\n",
      "\n",
      "[61236 rows x 8 columns]\n"
     ]
    }
   ],
   "source": [
    "df = load_data_to_dataframe()\n",
    "print(df)"
   ]
  },
  {
   "cell_type": "markdown",
   "id": "b9abafae-ee14-4509-9033-09924661fbbe",
   "metadata": {},
   "source": [
    "Замінюємо індекси"
   ]
  },
  {
   "cell_type": "code",
   "execution_count": 54,
   "id": "21d590c1-4aa0-4a21-8d41-3076097fe517",
   "metadata": {},
   "outputs": [],
   "source": [
    "def update_area_indexes(df):\n",
    "    index_map = {\n",
    "        1: 'Вінницька', 2: 'Волинська', 3: 'Дніпропетровська', 4: 'Донецька',\n",
    "        5: 'Житомирська', 6: 'Закарпатська', 7: 'Запорізька', 8: 'Івано-Франківська',\n",
    "        9: 'Київська', 10: 'Кіровоградська', 11: 'Луганська', 12: 'Львівська',\n",
    "        13: 'Миколаївська', 14: 'Одеська', 15: 'Полтавська', 16: 'Рівенська',\n",
    "        17: 'Сумська', 18: 'Тернопільська', 19: 'Харківська', 20: 'Херсонська',\n",
    "        21: 'Хмельницька', 22: 'Черкаська', 23: 'Чернівецька', 24: 'Чернігівська',\n",
    "        25: 'Республіка Крим'\n",
    "    }\n",
    "\n",
    "    print(f\"Unique area values before mapping: {df['area'].unique()}\")\n",
    "    \n",
    "    df[\"area\"] = df[\"area\"].map(index_map)\n",
    "\n",
    "    \n",
    "    return df\n"
   ]
  },
  {
   "cell_type": "code",
   "execution_count": 57,
   "id": "010f74a9",
   "metadata": {},
   "outputs": [
    {
     "name": "stdout",
     "output_type": "stream",
     "text": [
      "Unique area values before mapping: [ 1  2  3  4  5  6  7  8  9 10 11 12 13 14 15 16 17 18 19 20 21 22 23 24\n",
      " 25 26 27 28]\n",
      "                Year  Week    SMN     SMT    VCI    TCI    VHI       area\n",
      "0      <tt><pre>1982   1.0  0.059  258.24  51.11  48.78  49.95  Вінницька\n",
      "1               1982   2.0  0.063  261.53  55.89  38.20  47.04  Вінницька\n",
      "2               1982   3.0  0.063  263.45  57.30  32.69  44.99  Вінницька\n",
      "3               1982   4.0  0.061  265.10  53.96  28.62  41.29  Вінницька\n",
      "4               1982   5.0  0.058  266.42  46.87  28.57  37.72  Вінницька\n",
      "...              ...   ...    ...     ...    ...    ...    ...        ...\n",
      "61231           2024  49.0  0.133  277.08  57.71  10.86  34.29        NaN\n",
      "61232           2024  50.0  0.130  276.49  59.45   8.68  34.07        NaN\n",
      "61233           2024  51.0  0.128  276.45  62.53   5.55  34.04        NaN\n",
      "61234           2024  52.0  0.129  276.48  66.13   3.71  34.92        NaN\n",
      "61235    </pre></tt>   NaN    NaN     NaN    NaN    NaN    NaN        NaN\n",
      "\n",
      "[61236 rows x 8 columns]\n"
     ]
    }
   ],
   "source": [
    "df = update_area_indexes(df)\n",
    "print(df)"
   ]
  },
  {
   "cell_type": "markdown",
   "id": "f2c06819-b53a-4fe5-9b46-b51228253cbf",
   "metadata": {},
   "source": [
    "Отримаємо ряд VHI для області та року"
   ]
  },
  {
   "cell_type": "code",
   "execution_count": null,
   "id": "a7da16ec-ba42-43dc-9b0e-38b264f0c390",
   "metadata": {},
   "outputs": [],
   "source": [
    "def get_vhi_for_year(df, area_name, year):\n",
    "    print(f\"VHI для області {area_name} у {year} році:\")\n",
    "    result = df[(df[\"area\"] == area_name) & (df[\"Year\"] == year)][[\"Week\", \"VHI\"]]\n",
    "    return result  \n",
    "\n",
    "\n"
   ]
  },
  {
   "cell_type": "code",
   "execution_count": 63,
   "id": "97cbfe01",
   "metadata": {},
   "outputs": [
    {
     "name": "stdout",
     "output_type": "stream",
     "text": [
      "Ряд VHI для області Вінницька у 1982 році:\n",
      "    Week    VHI\n",
      "1    2.0  47.04\n",
      "2    3.0  44.99\n",
      "3    4.0  41.29\n",
      "4    5.0  37.72\n",
      "5    6.0  34.91\n",
      "6    7.0  33.14\n",
      "7    8.0  32.72\n",
      "8    9.0  32.77\n",
      "9   10.0  32.23\n",
      "10  11.0  30.38\n",
      "11  12.0  31.12\n",
      "12  13.0  31.65\n",
      "13  14.0  32.61\n",
      "14  15.0  35.49\n",
      "15  16.0  39.19\n",
      "16  17.0  41.14\n",
      "17  18.0  39.50\n",
      "18  19.0  37.07\n",
      "19  20.0  37.88\n",
      "20  21.0  40.99\n",
      "21  22.0  43.36\n",
      "22  23.0  45.31\n",
      "23  24.0  46.30\n",
      "24  25.0  48.85\n",
      "25  26.0  50.88\n",
      "26  27.0  51.83\n",
      "27  28.0  51.68\n",
      "28  29.0  51.61\n",
      "29  30.0  49.93\n",
      "30  31.0  46.00\n",
      "31  32.0  43.56\n",
      "32  33.0  41.20\n",
      "33  34.0  38.42\n",
      "34  35.0  39.22\n",
      "35  36.0  39.13\n",
      "36  37.0  37.25\n",
      "37  38.0  36.38\n",
      "38  39.0  35.99\n",
      "39  40.0  34.87\n",
      "40  41.0  29.96\n",
      "41  42.0  28.16\n",
      "42  43.0  27.39\n",
      "43  44.0  25.05\n",
      "44  45.0  23.80\n",
      "45  46.0  22.82\n",
      "46  47.0  24.41\n",
      "47  48.0  27.34\n",
      "48  49.0  28.53\n",
      "49  50.0  27.87\n",
      "50  51.0  29.83\n",
      "51  52.0  31.99\n"
     ]
    }
   ],
   "source": [
    "vhi_for_year = get_vhi_for_year(df, 'Вінницька', '1982')\n",
    "print(vhi_for_year)\n",
    "\n",
    "\n"
   ]
  },
  {
   "cell_type": "code",
   "execution_count": null,
   "id": "b91f8b57",
   "metadata": {},
   "outputs": [],
   "source": []
  },
  {
   "cell_type": "markdown",
   "id": "cd132df7-977d-41d4-b5ef-caa12f93bb9f",
   "metadata": {},
   "source": [
    "Шукаємо екстремуми (min, max, avg, median)"
   ]
  },
  {
   "cell_type": "code",
   "execution_count": 64,
   "id": "4e99b7d2-a382-48e8-bc47-5d36523802dc",
   "metadata": {},
   "outputs": [],
   "source": [
    "def analyze_vhi_extremes(df, area_name, year):\n",
    "    data = df[(df[\"area\"] == area_name) & (df[\"Year\"] == year)][\"VHI\"]\n",
    "    print(f\"Статистика для {area_name} у {year} році:\")\n",
    "    print(f\"Мінімум: {data.min()}\")\n",
    "    print(f\"Максимум: {data.max()}\")\n",
    "    print(f\"Середнє: {data.mean():.2f}\")\n",
    "    print(f\"Медіана: {data.median()}\")\n"
   ]
  },
  {
   "cell_type": "code",
   "execution_count": 65,
   "id": "98c1922a-58d8-4c22-bef9-42c73ac5c1e9",
   "metadata": {},
   "outputs": [
    {
     "name": "stdout",
     "output_type": "stream",
     "text": [
      "Статистика для Одеська у 2010 році:\n",
      "Мінімум: 40.61\n",
      "Максимум: 67.25\n",
      "Середнє: 52.76\n",
      "Медіана: 52.55\n"
     ]
    }
   ],
   "source": [
    "analyze_vhi_extremes(df, 'Одеська', '2010')"
   ]
  },
  {
   "cell_type": "markdown",
   "id": "472b08b1",
   "metadata": {},
   "source": [
    "Ряд VHI за діапазон років"
   ]
  },
  {
   "cell_type": "code",
   "execution_count": 66,
   "id": "8644aec5",
   "metadata": {},
   "outputs": [],
   "source": [
    "def get_vhi_range(df, area_name, year_start, year_end):\n",
    "    result = df[(df[\"area\"] == area_name) & (df[\"Year\"].between(year_start, year_end))][[\"Year\", \"Week\", \"VHI\"]]\n",
    "    display(result)\n"
   ]
  },
  {
   "cell_type": "code",
   "execution_count": 67,
   "id": "10f6e556",
   "metadata": {},
   "outputs": [
    {
     "data": {
      "text/html": [
       "<div>\n",
       "<style scoped>\n",
       "    .dataframe tbody tr th:only-of-type {\n",
       "        vertical-align: middle;\n",
       "    }\n",
       "\n",
       "    .dataframe tbody tr th {\n",
       "        vertical-align: top;\n",
       "    }\n",
       "\n",
       "    .dataframe thead th {\n",
       "        text-align: right;\n",
       "    }\n",
       "</style>\n",
       "<table border=\"1\" class=\"dataframe\">\n",
       "  <thead>\n",
       "    <tr style=\"text-align: right;\">\n",
       "      <th></th>\n",
       "      <th>Year</th>\n",
       "      <th>Week</th>\n",
       "      <th>VHI</th>\n",
       "    </tr>\n",
       "  </thead>\n",
       "  <tbody>\n",
       "    <tr>\n",
       "      <th>16456</th>\n",
       "      <td>2005</td>\n",
       "      <td>1.0</td>\n",
       "      <td>51.15</td>\n",
       "    </tr>\n",
       "    <tr>\n",
       "      <th>16457</th>\n",
       "      <td>2005</td>\n",
       "      <td>2.0</td>\n",
       "      <td>50.31</td>\n",
       "    </tr>\n",
       "    <tr>\n",
       "      <th>16458</th>\n",
       "      <td>2005</td>\n",
       "      <td>3.0</td>\n",
       "      <td>48.75</td>\n",
       "    </tr>\n",
       "    <tr>\n",
       "      <th>16459</th>\n",
       "      <td>2005</td>\n",
       "      <td>4.0</td>\n",
       "      <td>46.95</td>\n",
       "    </tr>\n",
       "    <tr>\n",
       "      <th>16460</th>\n",
       "      <td>2005</td>\n",
       "      <td>5.0</td>\n",
       "      <td>45.68</td>\n",
       "    </tr>\n",
       "    <tr>\n",
       "      <th>...</th>\n",
       "      <td>...</td>\n",
       "      <td>...</td>\n",
       "      <td>...</td>\n",
       "    </tr>\n",
       "    <tr>\n",
       "      <th>16762</th>\n",
       "      <td>2010</td>\n",
       "      <td>48.0</td>\n",
       "      <td>50.83</td>\n",
       "    </tr>\n",
       "    <tr>\n",
       "      <th>16763</th>\n",
       "      <td>2010</td>\n",
       "      <td>49.0</td>\n",
       "      <td>51.73</td>\n",
       "    </tr>\n",
       "    <tr>\n",
       "      <th>16764</th>\n",
       "      <td>2010</td>\n",
       "      <td>50.0</td>\n",
       "      <td>50.61</td>\n",
       "    </tr>\n",
       "    <tr>\n",
       "      <th>16765</th>\n",
       "      <td>2010</td>\n",
       "      <td>51.0</td>\n",
       "      <td>47.62</td>\n",
       "    </tr>\n",
       "    <tr>\n",
       "      <th>16766</th>\n",
       "      <td>2010</td>\n",
       "      <td>52.0</td>\n",
       "      <td>44.98</td>\n",
       "    </tr>\n",
       "  </tbody>\n",
       "</table>\n",
       "<p>311 rows × 3 columns</p>\n",
       "</div>"
      ],
      "text/plain": [
       "       Year  Week    VHI\n",
       "16456  2005   1.0  51.15\n",
       "16457  2005   2.0  50.31\n",
       "16458  2005   3.0  48.75\n",
       "16459  2005   4.0  46.95\n",
       "16460  2005   5.0  45.68\n",
       "...     ...   ...    ...\n",
       "16762  2010  48.0  50.83\n",
       "16763  2010  49.0  51.73\n",
       "16764  2010  50.0  50.61\n",
       "16765  2010  51.0  47.62\n",
       "16766  2010  52.0  44.98\n",
       "\n",
       "[311 rows x 3 columns]"
      ]
     },
     "metadata": {},
     "output_type": "display_data"
    }
   ],
   "source": [
    "get_vhi_range(df, 'Івано-Франківська', '2005', '2010')\n"
   ]
  },
  {
   "cell_type": "markdown",
   "id": "40457218",
   "metadata": {},
   "source": [
    "Виявляємо екстремальні посухі"
   ]
  },
  {
   "cell_type": "code",
   "execution_count": 73,
   "id": "92f6c581",
   "metadata": {},
   "outputs": [],
   "source": [
    "def detect_extreme_drought_years(df, percent_threshold=0.2):\n",
    "    drought_df = df[df[\"VHI\"] <= 15]\n",
    "    \n",
    "    if drought_df.empty:\n",
    "        print(\"Немає даних про екстремальні посухи (VHI <= 15).\")\n",
    "        return [], pd.DataFrame()\n",
    "    \n",
    "    grouped = drought_df.groupby([\"Year\", \"area\"]).size().reset_index(name=\"drought_weeks\")\n",
    "    \n",
    "    drought_years = grouped.groupby(\"Year\").count()\n",
    "    \n",
    "    threshold = int(25 * percent_threshold)\n",
    "    print(f\"Поріг для порівняння: {threshold} областей.\")\n",
    "    \n",
    "    affected_years = drought_years[drought_years[\"area\"] > threshold].index.tolist()\n",
    "\n",
    "    affected_data = grouped[grouped[\"Year\"].isin(affected_years)]\n",
    "    \n",
    "    if affected_years:\n",
    "        print(f\"Роки з екстремальними посухами (> {threshold} областей): {affected_years}\")\n",
    "    else:\n",
    "        print(\"Не знайдено років, де більше ніж 5 областей постраждали від екстремальних посух.\")\n",
    "    \n",
    "    return affected_years, affected_data\n",
    "\n",
    "\n",
    "\n"
   ]
  },
  {
   "cell_type": "code",
   "execution_count": 74,
   "id": "a2aeed71",
   "metadata": {},
   "outputs": [
    {
     "name": "stdout",
     "output_type": "stream",
     "text": [
      "Поріг для порівняння: 5 областей.\n",
      "Не знайдено років, де більше ніж 5 областей постраждали від екстремальних посух.\n",
      "[]\n",
      "Empty DataFrame\n",
      "Columns: [Year, area, drought_weeks]\n",
      "Index: []\n"
     ]
    }
   ],
   "source": [
    "affected_years, affected_data = detect_extreme_drought_years(df)\n",
    "print(affected_years)\n",
    "print(affected_data)"
   ]
  }
 ],
 "metadata": {
  "kernelspec": {
   "display_name": "venv",
   "language": "python",
   "name": "python3"
  },
  "language_info": {
   "codemirror_mode": {
    "name": "ipython",
    "version": 3
   },
   "file_extension": ".py",
   "mimetype": "text/x-python",
   "name": "python",
   "nbconvert_exporter": "python",
   "pygments_lexer": "ipython3",
   "version": "3.11.9"
  }
 },
 "nbformat": 4,
 "nbformat_minor": 5
}
